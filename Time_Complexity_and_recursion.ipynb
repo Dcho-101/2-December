{
  "nbformat": 4,
  "nbformat_minor": 0,
  "metadata": {
    "colab": {
      "provenance": []
    },
    "kernelspec": {
      "name": "python3",
      "display_name": "Python 3"
    },
    "language_info": {
      "name": "python"
    }
  },
  "cells": [
    {
      "cell_type": "markdown",
      "source": [
        "**Find the worst case time complexity of all the below problems**"
      ],
      "metadata": {
        "id": "lhc6FgmBT1_3"
      }
    },
    {
      "cell_type": "code",
      "source": [],
      "metadata": {
        "id": "Qv32T0tkntfD"
      },
      "execution_count": null,
      "outputs": []
    },
    {
      "cell_type": "code",
      "execution_count": null,
      "metadata": {
        "id": "xn2v-9zW92HV"
      },
      "outputs": [],
      "source": [
        "def printName(n):\n",
        "  for i in range(n):\n",
        "    print(\"Hello World\")"
      ]
    },
    {
      "cell_type": "code",
      "source": [
        "def printName(n):\n",
        "  for i in range(n):\n",
        "    for j in range(n):\n",
        "      print(\"Hello World\")"
      ],
      "metadata": {
        "id": "tkD5Fp4A-FRE"
      },
      "execution_count": null,
      "outputs": []
    },
    {
      "cell_type": "code",
      "source": [
        "def printName(n):\n",
        "  i=1\n",
        "  while i<n :\n",
        "    i = i*2"
      ],
      "metadata": {
        "id": "kUoT9g4R-PjZ"
      },
      "execution_count": null,
      "outputs": []
    },
    {
      "cell_type": "code",
      "source": [
        "def printName(n):\n",
        "  for i in range(n):\n",
        "    while j<n :\n",
        "      j = j*2\n",
        "      print(\"Hello World\")"
      ],
      "metadata": {
        "id": "Mx7piu3A-4pa"
      },
      "execution_count": null,
      "outputs": []
    },
    {
      "cell_type": "code",
      "source": [
        "def printName(n):\n",
        "  for i in range(n):\n",
        "    for j in range(n):\n",
        "      print(\"Hello World\")\n",
        "      break"
      ],
      "metadata": {
        "id": "8_4r3DAq_IR_"
      },
      "execution_count": null,
      "outputs": []
    },
    {
      "cell_type": "code",
      "source": [
        "def printName(n):\n",
        "  i=s=1\n",
        "  while(s<n):\n",
        "    i +=1\n",
        "    s +=i\n",
        "    print(\"Hello World\")"
      ],
      "metadata": {
        "id": "0fu1kMKQ_MCs"
      },
      "execution_count": null,
      "outputs": []
    },
    {
      "cell_type": "code",
      "source": [
        "def function(n):\n",
        "  i=1\n",
        "  count=0\n",
        "  while i*i < n :\n",
        "    count = count +1\n",
        "    i=i+1\n",
        "    print(count)\n"
      ],
      "metadata": {
        "id": "S9OCABZcRNI5"
      },
      "execution_count": null,
      "outputs": []
    },
    {
      "cell_type": "code",
      "source": [
        "def function(n):\n",
        "  count =0\n",
        "  for i in range(int(n/2), n):\n",
        "    j=1\n",
        "    while j +n/2 <=n:\n",
        "      k=1\n",
        "      while k <= n:\n",
        "        count = count+1\n",
        "        k = k*2\n",
        "      j = j+1\n",
        "      print(count)\n",
        "function(20)"
      ],
      "metadata": {
        "id": "Hu7g38P8RlbX"
      },
      "execution_count": null,
      "outputs": []
    },
    {
      "cell_type": "code",
      "source": [
        "def function(n):\n",
        "  count = 0\n",
        "  for i in range(int(n/2), n):\n",
        "    j=1\n",
        "    while j + int(n/2) <= n:\n",
        "      break\n",
        "      j=j*2\n",
        "  print(count)\n"
      ],
      "metadata": {
        "id": "GruOLO2_SkSC"
      },
      "execution_count": null,
      "outputs": []
    },
    {
      "cell_type": "code",
      "source": [
        "def function(n):\n",
        "  count =0\n",
        "  if n <= 0:\n",
        "    return\n",
        "  for i in range(0,n):\n",
        "    j=1\n",
        "    while j < n:\n",
        "      j = j+1\n",
        "      count = count+1\n",
        "    print(count)\n",
        "function(10)"
      ],
      "metadata": {
        "id": "85Jpv2LeTenR"
      },
      "execution_count": null,
      "outputs": []
    },
    {
      "cell_type": "code",
      "source": [
        "#Recursion\n",
        "\n",
        "def printArr(arr, sI):\n",
        "  if sI >= len(arr):\n",
        "    return None\n",
        "  print(arr[sI], end=\" \") # Having an additional parameter end=\" \"\n",
        "  printArr(arr, sI+1)\n",
        "\n",
        "printArr([1,2,3,4],0)"
      ],
      "metadata": {
        "id": "f4l7igBY_e6Q"
      },
      "execution_count": null,
      "outputs": []
    },
    {
      "cell_type": "code",
      "source": [
        "def printArr(arr, sI):\n",
        "  if sI >= len(arr):\n",
        "    return None\n",
        "  printArr(arr, sI+1)\n",
        "  print(arr[sI], end=\" \") # Having an additional parameter end=\" \"\n",
        "\n",
        "\n",
        "printArr([1,2,3,4],0)"
      ],
      "metadata": {
        "id": "arRVII2CBS_l"
      },
      "execution_count": null,
      "outputs": []
    },
    {
      "cell_type": "code",
      "source": [
        "# Tower of Hanoi\n",
        "def count(n, s , e , a):\n",
        "  if(n <=1):\n",
        "    return n\n",
        "\n",
        "  return count(n-1,s,a,e) + 1 + count(n-1,e,a,s)\n",
        "\n",
        "print(count(2,'s','e','a'))\n",
        "print(count(3,'s','e','a'))\n",
        "print(count(4,'s','e','a'))\n",
        "print(count(5,'s','e','a'))\n"
      ],
      "metadata": {
        "id": "mLmQbTsNCh_5"
      },
      "execution_count": null,
      "outputs": []
    }
  ]
}
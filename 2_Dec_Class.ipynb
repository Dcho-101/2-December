{
  "nbformat": 4,
  "nbformat_minor": 0,
  "metadata": {
    "colab": {
      "provenance": []
    },
    "kernelspec": {
      "name": "python3",
      "display_name": "Python 3"
    },
    "language_info": {
      "name": "python"
    }
  },
  "cells": [
    {
      "cell_type": "code",
      "execution_count": 1,
      "metadata": {
        "colab": {
          "base_uri": "https://localhost:8080/"
        },
        "id": "JaC9WOn8wAcS",
        "outputId": "24c6a061-a270-4a63-de24-145b7cbaae98"
      },
      "outputs": [
        {
          "output_type": "stream",
          "name": "stdout",
          "text": [
            "1\n",
            "2\n",
            "3\n",
            "4\n"
          ]
        }
      ],
      "source": [
        "# Recursion Function\n",
        "\n",
        "def recfunc(arr, sl_no) :\n",
        "  # base case condition\n",
        "  if sl_no >= len(arr) :\n",
        "    return\n",
        "\n",
        "\n",
        "    # logic\n",
        "  print(arr[sl_no])\n",
        "\n",
        "  # reursive call\n",
        "  recfunc(arr, sl_no+1)\n",
        "\n",
        "\n",
        "recfunc([1,2,3,4], 0)"
      ]
    },
    {
      "cell_type": "code",
      "source": [
        "def recfunc(arr, sl_no) :\n",
        "  # base case condition\n",
        "  if sl_no >= len(arr) :\n",
        "    return\n",
        "\n",
        "      # reursive call\n",
        "  recfunc(arr, sl_no+1)\n",
        "\n",
        "    # logic\n",
        "  print(arr[sl_no])\n",
        "\n",
        "\n",
        "recfunc([1,2,3,4], 0)"
      ],
      "metadata": {
        "colab": {
          "base_uri": "https://localhost:8080/"
        },
        "id": "Jm3VXpPAxEg7",
        "outputId": "9f660d2b-b645-4d9a-aafa-12c3aea8ca37"
      },
      "execution_count": 2,
      "outputs": [
        {
          "output_type": "stream",
          "name": "stdout",
          "text": [
            "4\n",
            "3\n",
            "2\n",
            "1\n"
          ]
        }
      ]
    },
    {
      "cell_type": "code",
      "source": [
        "# recursive function goes like FILO or LIFO"
      ],
      "metadata": {
        "id": "istAtVpUy5Sp"
      },
      "execution_count": 3,
      "outputs": []
    },
    {
      "cell_type": "code",
      "source": [
        "# First Comes Last Out\n",
        "\n",
        "# or\n",
        "\n",
        "# Last Comes First Out"
      ],
      "metadata": {
        "id": "OB7Y6NsF4SK-"
      },
      "execution_count": 5,
      "outputs": []
    },
    {
      "cell_type": "code",
      "source": [
        "# [3,5,2,1,4]\n",
        "# find the smalllest number using recursion\n",
        "\n",
        "\n",
        "def small_num(arr) :\n",
        "  # base case\n",
        "  if arr[1] < arr[0] :\n",
        "    return\n",
        "\n",
        "    arr[0] = arr[0] + 1\n",
        "    arr[1] = arr[1] + 1\n",
        "\n",
        "    print()\n",
        "\n",
        "\n",
        ""
      ],
      "metadata": {
        "id": "FhlQkh3t4fHb"
      },
      "execution_count": 7,
      "outputs": []
    },
    {
      "cell_type": "code",
      "source": [
        "# you need to define a function first\n",
        "# under the function you need clear concepts in picking arguments\n",
        "# then you have to provide the base case"
      ],
      "metadata": {
        "id": "Q_y9l0Bs63i1"
      },
      "execution_count": 8,
      "outputs": []
    },
    {
      "cell_type": "code",
      "source": [
        "# corrected code\n",
        "\n",
        "def small_num(arr, index_no) :\n",
        "  # base case\n",
        "  if index_no >= len(arr) :\n",
        "    return 99999\n",
        "\n",
        "  return min(arr[index_no], small_num(arr, index_no + 1))\n",
        "\n",
        "\n",
        "print(small_num([3,2,1,5], 0))\n",
        "\n",
        "\n"
      ],
      "metadata": {
        "colab": {
          "base_uri": "https://localhost:8080/"
        },
        "id": "ezE43nl-7YHm",
        "outputId": "d345d99b-4bae-4349-8628-be3de14c40ac"
      },
      "execution_count": 10,
      "outputs": [
        {
          "output_type": "stream",
          "name": "stdout",
          "text": [
            "1\n"
          ]
        }
      ]
    },
    {
      "cell_type": "code",
      "source": [
        "# finding max number\n",
        "\n",
        "def find_max(arr, sl_no) :\n",
        "  if sl_no >= len(arr) :\n",
        "    return -1\n",
        "\n",
        "  return max(arr[sl_no], find_max(arr, sl_no + 1))\n",
        "\n",
        "print(find_max([3,2,1,5], 0))"
      ],
      "metadata": {
        "colab": {
          "base_uri": "https://localhost:8080/"
        },
        "id": "ePb0TQq-9irg",
        "outputId": "86ca8a91-06a8-40f6-8d8f-2352a2d09d55"
      },
      "execution_count": 20,
      "outputs": [
        {
          "output_type": "stream",
          "name": "stdout",
          "text": [
            "5\n"
          ]
        }
      ]
    },
    {
      "cell_type": "code",
      "source": [],
      "metadata": {
        "id": "uP3CWV8A_7Dd"
      },
      "execution_count": 20,
      "outputs": []
    },
    {
      "cell_type": "code",
      "source": [
        "# tower of hanoi"
      ],
      "metadata": {
        "id": "6hZPbZstGt12"
      },
      "execution_count": 21,
      "outputs": []
    },
    {
      "cell_type": "code",
      "source": [
        "# you have given 3 tower, initial tower is given n number of coins, you have to move the coins in tower 2 in decreasing coin size.\n",
        "# at one time 1 coin can be moved\n",
        "# you can use tower 3 as slot"
      ],
      "metadata": {
        "id": "sduVeCJIGwrL"
      },
      "execution_count": 22,
      "outputs": []
    },
    {
      "cell_type": "code",
      "source": [
        "def moves(n, s, d, a) :\n",
        "  # BAse Condition\n",
        "  if n == 1 :\n",
        "    return 1\n",
        "\n",
        "  # move n-1, s->a, then move 1 biggest coin to s-> d and then n-1 coin to a->d\n",
        "  return moves(n-1,s,a,d) + 1 + moves(n-1,a,d,s)"
      ],
      "metadata": {
        "id": "VbxmB7SJHYZV"
      },
      "execution_count": 25,
      "outputs": []
    },
    {
      "cell_type": "code",
      "source": [
        "print(moves(1,'s','d','a'))\n",
        "print(moves(2,'s','d','a'))\n",
        "print(moves(3,'s','d','a'))\n",
        "print(moves(4,'s','d','a'))"
      ],
      "metadata": {
        "colab": {
          "base_uri": "https://localhost:8080/"
        },
        "id": "PtngtNjMNS3w",
        "outputId": "f2ae8773-8ae5-4522-8b5f-8e53d1b6b0cb"
      },
      "execution_count": 26,
      "outputs": [
        {
          "output_type": "stream",
          "name": "stdout",
          "text": [
            "1\n",
            "3\n",
            "7\n",
            "15\n"
          ]
        }
      ]
    },
    {
      "cell_type": "code",
      "source": [
        "# time complexity will be exponential\n"
      ],
      "metadata": {
        "id": "LIDxKoM0NiFv"
      },
      "execution_count": null,
      "outputs": []
    }
  ]
}